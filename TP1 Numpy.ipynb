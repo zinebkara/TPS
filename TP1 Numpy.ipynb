{
 "cells": [
  {
   "cell_type": "code",
   "execution_count": 3,
   "id": "b739edc4-a35e-4f7a-a974-5604a2c1133b",
   "metadata": {},
   "outputs": [
    {
     "data": {
      "text/plain": [
       "array([ 5, 10, 15, 20, 25])"
      ]
     },
     "execution_count": 3,
     "metadata": {},
     "output_type": "execute_result"
    }
   ],
   "source": [
    "# EXERCICE 1: Création et manipulation de tableaux NumPy\n",
    "import numpy as np\n",
    "lst =  [5, 10, 15, 20, 25]\n",
    "v = np.array(lst, dtype=np.int32)\n",
    "v"
   ]
  },
  {
   "cell_type": "code",
   "execution_count": 5,
   "id": "e4450e6c-5930-42b3-b820-f929e60be4d3",
   "metadata": {},
   "outputs": [
    {
     "data": {
      "text/plain": [
       "array([ 5., 10., 15., 20., 25.])"
      ]
     },
     "execution_count": 5,
     "metadata": {},
     "output_type": "execute_result"
    }
   ],
   "source": [
    "import numpy as np\n",
    "lst =  [5, 10, 15, 20, 25]\n",
    "v = np.array(lst, dtype=np.float64)\n",
    "v"
   ]
  },
  {
   "cell_type": "code",
   "execution_count": 7,
   "id": "be1af78a-004d-40fe-98e3-2ab45b5b22e7",
   "metadata": {},
   "outputs": [
    {
     "data": {
      "text/plain": [
       "array([[1, 2, 3],\n",
       "       [4, 5, 6],\n",
       "       [7, 8, 9]])"
      ]
     },
     "execution_count": 7,
     "metadata": {},
     "output_type": "execute_result"
    }
   ],
   "source": [
    "list_of_lists = [[1, 2, 3], [4, 5, 6], [7, 8, 9]]\n",
    "M = np.array(list_of_lists)\n",
    "\n",
    "M"
   ]
  },
  {
   "cell_type": "code",
   "execution_count": 15,
   "id": "7463f523-34ba-4331-bb6f-81dbd646ddc7",
   "metadata": {},
   "outputs": [
    {
     "name": "stdout",
     "output_type": "stream",
     "text": [
      "(3, 3)\n"
     ]
    },
    {
     "data": {
      "text/plain": [
       "9"
      ]
     },
     "execution_count": 15,
     "metadata": {},
     "output_type": "execute_result"
    }
   ],
   "source": [
    "list_of_lists = [[1, 2, 3], [4, 5, 6], [7, 8, 9]]\n",
    "M = np.array(list_of_lists)\n",
    "print(M.shape)\n",
    "M.size"
   ]
  },
  {
   "cell_type": "code",
   "execution_count": 17,
   "id": "133f7c9f-acee-4e30-9074-11f986f67cac",
   "metadata": {},
   "outputs": [
    {
     "data": {
      "text/plain": [
       "array([[[-0.40294901,  0.60046509, -0.28267856, -1.0537688 ],\n",
       "        [ 0.36744159, -0.44210557,  1.34930243, -0.38990247],\n",
       "        [-0.44101674,  0.51848251,  1.20582843, -0.70626291]],\n",
       "\n",
       "       [[ 1.04295365,  0.82179999,  0.35688075,  0.85629142],\n",
       "        [ 0.71906439,  1.80910843,  0.61771104, -0.01382897],\n",
       "        [-0.50034274,  0.69811362,  0.91605323,  0.91005531]]])"
      ]
     },
     "execution_count": 17,
     "metadata": {},
     "output_type": "execute_result"
    }
   ],
   "source": [
    "gaussian = np.random.randn(2 * 3 * 4)\n",
    "gaussian = gaussian.reshape(2, 3, 4)\n",
    "gaussian"
   ]
  },
  {
   "cell_type": "code",
   "execution_count": 3,
   "id": "a66d3897-295e-400f-8c25-d33fd8a9fda2",
   "metadata": {},
   "outputs": [
    {
     "data": {
      "text/plain": [
       "array([0, 1, 2, 3, 4, 5, 6, 7, 8, 9], dtype=int64)"
      ]
     },
     "execution_count": 3,
     "metadata": {},
     "output_type": "execute_result"
    }
   ],
   "source": [
    "# EXERCICE 2: Manipulations avancées des tableaux\n",
    "lst =  [0, 1, 2, 3, 4, 5, 6, 7, 8, 9]\n",
    "v = np.array(lst, dtype=np.int64)\n",
    "v\n"
   ]
  },
  {
   "cell_type": "code",
   "execution_count": 5,
   "id": "eef01d0d-bb14-4334-adaa-599d134f288a",
   "metadata": {},
   "outputs": [
    {
     "data": {
      "text/plain": [
       "array([9, 8, 7, 6, 5, 4, 3, 2, 1, 0], dtype=int64)"
      ]
     },
     "execution_count": 5,
     "metadata": {},
     "output_type": "execute_result"
    }
   ],
   "source": [
    "# 1. Inversion d'un tableau 1D\n",
    "np.flip(v)"
   ]
  },
  {
   "cell_type": "code",
   "execution_count": 55,
   "id": "497fff7a-05fa-40ce-b46a-eb25635c5fd7",
   "metadata": {},
   "outputs": [
    {
     "data": {
      "text/plain": [
       "array([[ 0,  1,  2,  3],\n",
       "       [ 4,  5,  6,  7],\n",
       "       [ 8,  9, 10, 11]])"
      ]
     },
     "execution_count": 55,
     "metadata": {},
     "output_type": "execute_result"
    }
   ],
   "source": [
    "import numpy as np\n",
    "\n",
    "# Créer un tableau NumPy 2D avec les nombres de 0 à 11, en forme de 3x4\n",
    "array = np.arange(12).reshape(3, 4)\n",
    "array\n"
   ]
  },
  {
   "cell_type": "code",
   "execution_count": 57,
   "id": "a2411078-5075-43fa-9b75-c8db5466a19d",
   "metadata": {},
   "outputs": [
    {
     "name": "stdout",
     "output_type": "stream",
     "text": [
      "Sous-tableau: [[2 3]\n",
      " [6 7]]\n"
     ]
    }
   ],
   "source": [
    "# 2. Extraction d'un sous-tableau spécifique\n",
    "arr5 = np.arange(12).reshape(3, 4)[:2, -2:]\n",
    "print(\"Sous-tableau:\", arr5)"
   ]
  },
  {
   "cell_type": "code",
   "execution_count": 61,
   "id": "38f4802f-a019-4e10-95cb-fb4c529ee07d",
   "metadata": {},
   "outputs": [
    {
     "data": {
      "text/plain": [
       "array([[10,  1,  0,  0,  0],\n",
       "       [ 6,  4,  7, 10,  7],\n",
       "       [ 9,  1,  1,  5,  1],\n",
       "       [ 5,  7,  3,  3,  7],\n",
       "       [ 6,  3,  1,  3,  5]])"
      ]
     },
     "execution_count": 61,
     "metadata": {},
     "output_type": "execute_result"
    }
   ],
   "source": [
    "#3. Créer un tableau 5x5 avec des entiers aléatoires entre 0 et 10\n",
    "array = np.random.randint(0, 11, (5, 5))\n",
    "\n",
    "array"
   ]
  },
  {
   "cell_type": "code",
   "execution_count": 63,
   "id": "a4ee3f0c-ef00-4ef7-906d-91d6224dcb0c",
   "metadata": {},
   "outputs": [
    {
     "name": "stdout",
     "output_type": "stream",
     "text": [
      "[[0 1 0 0 0]\n",
      " [0 4 0 0 0]\n",
      " [0 1 1 5 1]\n",
      " [5 0 3 3 0]\n",
      " [0 3 1 3 5]]\n"
     ]
    }
   ],
   "source": [
    "# Remplacer tous les éléments > 5 par 0\n",
    "array[array > 5] = 0\n",
    "\n",
    "# Afficher le tableau modifié\n",
    "print(array)"
   ]
  },
  {
   "cell_type": "code",
   "execution_count": 9,
   "id": "562ec4b5-40c7-4748-9e7d-2ad035e22cd9",
   "metadata": {},
   "outputs": [
    {
     "name": "stdout",
     "output_type": "stream",
     "text": [
      "Matrice identité: [[1. 0. 0.]\n",
      " [0. 1. 0.]\n",
      " [0. 0. 1.]]\n",
      "Linspace: [0.         0.55555556 1.11111111 1.66666667 2.22222222 2.77777778\n",
      " 3.33333333 3.88888889 4.44444444 5.        ]\n",
      "Somme des éléments: 5.176380859148075\n"
     ]
    }
   ],
   "source": [
    "# EXERCICE 3: Initialisation et attributs\n",
    "# 1. Création d'une matrice identité\n",
    "identity_matrix = np.eye(3)\n",
    "print(\"Matrice identité:\", identity_matrix)\n",
    "\n",
    "# 2. Génération d'un tableau linéairement espacé\n",
    "linspace_arr = np.linspace(0, 5, 10)\n",
    "print(\"Linspace:\", linspace_arr)\n",
    "\n",
    "# 3. Création d'un tableau 3D aléatoire et calcul de la somme\n",
    "random_3D = np.random.randn(2, 3, 4)\n",
    "print(\"Somme des éléments:\", np.sum(random_3D))"
   ]
  },
  {
   "cell_type": "code",
   "execution_count": 11,
   "id": "45ee70b1-47aa-41a3-94f6-401d94dde7d7",
   "metadata": {},
   "outputs": [
    {
     "name": "stdout",
     "output_type": "stream",
     "text": [
      "Éléments sélectionnés: [45 37 13 10  9]\n",
      "Masquage > 15: [22 21 26 25 29 28 18]\n",
      "Valeurs négatives remplacées: [0 0 0 0 0 3 0 4 0 0]\n"
     ]
    }
   ],
   "source": [
    "# EXERCICE 4: Indexation avancée et masquage\n",
    "# 1. Sélection d'éléments spécifiques\n",
    "arr7 = np.random.randint(0, 50, 20)\n",
    "print(\"Éléments sélectionnés:\", arr7[[2, 5, 7, 10, 15]])\n",
    "\n",
    "# 2. Filtrage avec un masque booléen\n",
    "arr8 = np.random.randint(0, 30, (4, 5))\n",
    "print(\"Masquage > 15:\", arr8[arr8 > 15])\n",
    "\n",
    "# 3. Remplacement des valeurs négatives par 0\n",
    "arr9 = np.random.randint(-10, 10, 10)\n",
    "arr9[arr9 < 0] = 0\n",
    "print(\"Valeurs négatives remplacées:\", arr9)"
   ]
  },
  {
   "cell_type": "code",
   "execution_count": 13,
   "id": "0b1a7e18-298f-4990-800d-c30014f3d34e",
   "metadata": {},
   "outputs": [
    {
     "name": "stdout",
     "output_type": "stream",
     "text": [
      "Concaténation: [8 4 7 8 8 9 9 1 0 2]\n",
      "Split par lignes: [array([[1, 1, 3, 8],\n",
      "       [9, 7, 4, 7],\n",
      "       [9, 6, 0, 8]]), array([[8, 9, 3, 1],\n",
      "       [0, 7, 7, 9],\n",
      "       [3, 6, 6, 1]])]\n",
      "Split par colonnes: [array([[2, 3],\n",
      "       [4, 9],\n",
      "       [9, 2]]), array([[5, 0],\n",
      "       [5, 9],\n",
      "       [5, 4]]), array([[5, 7],\n",
      "       [6, 6],\n",
      "       [8, 8]])]\n"
     ]
    }
   ],
   "source": [
    "# EXERCICE 5: Combinaison et division\n",
    "# 1. Concatenation de tableaux 1D\n",
    "arr10 = np.concatenate((np.random.randint(0, 10, 5), np.random.randint(0, 10, 5)))\n",
    "print(\"Concaténation:\", arr10)\n",
    "\n",
    "# 2. Division d'un tableau 2D en lignes\n",
    "arr11 = np.random.randint(0, 10, (6, 4))\n",
    "split_rows = np.split(arr11, 2, axis=0)\n",
    "print(\"Split par lignes:\", split_rows)\n",
    "\n",
    "# 3. Division en colonnes\n",
    "arr12 = np.random.randint(0, 10, (3, 6))\n",
    "split_cols = np.split(arr12, 3, axis=1)\n",
    "print(\"Split par colonnes:\", split_cols)"
   ]
  },
  {
   "cell_type": "code",
   "execution_count": 15,
   "id": "f47b59a2-fb86-42d7-b858-ae4a051f030a",
   "metadata": {},
   "outputs": [
    {
     "name": "stdout",
     "output_type": "stream",
     "text": [
      "Moyenne: 40.86666666666667 Médiane: 39.0 Écart-type: 30.028578979957665 Variance: 901.7155555555554\n",
      "Somme des lignes: [123 118  65  51] Somme des colonnes: [ 90 118  67  82]\n",
      "Max par axe: [[16 11 17 12]\n",
      " [14 17  6 16]] Min par axe: [[6 6 1]\n",
      " [2 6 1]]\n"
     ]
    }
   ],
   "source": [
    "# EXERCICE 6: Fonctions mathématiques\n",
    "# 1. Calcul de statistiques sur un tableau\n",
    "arr13 = np.random.randint(1, 100, 15)\n",
    "print(\"Moyenne:\", np.mean(arr13), \"Médiane:\", np.median(arr13), \"Écart-type:\", np.std(arr13), \"Variance:\", np.var(arr13))\n",
    "\n",
    "# 2. Somme des lignes et colonnes\n",
    "arr14 = np.random.randint(1, 50, (4, 4))\n",
    "print(\"Somme des lignes:\", np.sum(arr14, axis=1), \"Somme des colonnes:\", np.sum(arr14, axis=0))\n",
    "\n",
    "# 3. Min et max sur un tableau 3D\n",
    "arr15 = np.random.randint(1, 20, (2, 3, 4))\n",
    "print(\"Max par axe:\", np.max(arr15, axis=1), \"Min par axe:\", np.min(arr15, axis=2))"
   ]
  },
  {
   "cell_type": "code",
   "execution_count": 17,
   "id": "6b7331d8-3dd7-4edb-87ec-8b3898d16c2a",
   "metadata": {},
   "outputs": [
    {
     "name": "stdout",
     "output_type": "stream",
     "text": [
      "Tableau reshaped: [[ 1  2  3  4]\n",
      " [ 5  6  7  8]\n",
      " [ 9 10 11 12]]\n",
      "Tableau transposé: [[9 4 7]\n",
      " [1 1 2]\n",
      " [8 2 6]\n",
      " [8 3 9]]\n",
      "Tableau aplati: [5 5 3 1 6 7]\n"
     ]
    }
   ],
   "source": [
    "# EXERCICE 7: Reshape et transposition\n",
    "# 1. Transformation d'un tableau 1D en 2D\n",
    "arr16 = np.arange(1, 13).reshape(3, 4)\n",
    "print(\"Tableau reshaped:\", arr16)\n",
    "\n",
    "# 2. Transposition d'un tableau\n",
    "arr17 = np.random.randint(1, 10, (3, 4)).T\n",
    "print(\"Tableau transposé:\", arr17)\n",
    "\n",
    "# 3. Aplatissement d'un tableau\n",
    "arr18 = np.random.randint(1, 10, (2, 3)).flatten()\n",
    "print(\"Tableau aplati:\", arr18)\n"
   ]
  },
  {
   "cell_type": "code",
   "execution_count": 19,
   "id": "b48f536d-d041-4b3c-91d6-a9a46378e268",
   "metadata": {},
   "outputs": [
    {
     "name": "stdout",
     "output_type": "stream",
     "text": [
      "Normalisé: [[-2.66666667 -1.33333333  1.33333333 -1.66666667]\n",
      " [ 0.33333333  0.66666667 -0.66666667  3.33333333]\n",
      " [ 2.33333333  0.66666667 -0.66666667 -1.66666667]]\n",
      "Produit extérieur: [[ 9  6 12  9]\n",
      " [ 6  4  8  6]\n",
      " [12  8 16 12]\n",
      " [ 9  6 12  9]]\n",
      "Tableau modifié: [[ 2  3  5  5  3]\n",
      " [ 2 16  5 17 18]\n",
      " [17  5  2  5 18]\n",
      " [18 18  3  5  1]]\n"
     ]
    }
   ],
   "source": [
    "# EXERCICE 8: Broadcasting et opérations vectorisées\n",
    "# 1. Normalisation d'un tableau par colonne\n",
    "arr19 = np.random.randint(1, 10, (3, 4))\n",
    "normalized = arr19 - np.mean(arr19, axis=0)\n",
    "print(\"Normalisé:\", normalized)\n",
    "\n",
    "# 2. Produit extérieur\n",
    "arr20 = np.random.randint(1, 5, 4)\n",
    "print(\"Produit extérieur:\", np.outer(arr20, arr20))\n",
    "\n",
    "# 3. Augmentation conditionnelle d'un tableau\n",
    "arr21 = np.random.randint(1, 10, (4, 5))\n",
    "arr21[arr21 > 5] += 10\n",
    "print(\"Tableau modifié:\", arr21)"
   ]
  },
  {
   "cell_type": "code",
   "execution_count": 21,
   "id": "760b78c6-0822-4295-8ef5-5cb12e9ebab6",
   "metadata": {},
   "outputs": [
    {
     "name": "stdout",
     "output_type": "stream",
     "text": [
      "Trié: [ 3  4  4  8  9 11 12 12 15 16]\n",
      "Trié par colonne: [[34 29 14  5 42]\n",
      " [40 33 17 48  5]\n",
      " [16 49 15 17 26]]\n",
      "Indices des éléments > 50: (array([ 1,  2,  4, 11, 13], dtype=int64),)\n"
     ]
    }
   ],
   "source": [
    "# EXERCICE 9: Tri et recherche\n",
    "# 1. Tri d'un tableau 1D\n",
    "arr22 = np.sort(np.random.randint(1, 20, 10))\n",
    "print(\"Trié:\", arr22)\n",
    "\n",
    "# 2. Tri d'un tableau 2D par colonne\n",
    "arr23 = np.random.randint(1, 50, (3, 5))\n",
    "sorted_arr = arr23[arr23[:, 1].argsort()]\n",
    "print(\"Trié par colonne:\", sorted_arr)\n",
    "\n",
    "# 3. Recherche d'indices d'éléments spécifiques\n",
    "indices = np.where(np.random.randint(1, 100, 15) > 50)\n",
    "print(\"Indices des éléments > 50:\", indices)"
   ]
  },
  {
   "cell_type": "code",
   "execution_count": 23,
   "id": "66dae971-bcde-4491-9c2d-ce587394e619",
   "metadata": {},
   "outputs": [
    {
     "name": "stdout",
     "output_type": "stream",
     "text": [
      "Matrice: [[4 1]\n",
      " [7 3]]\n",
      "Déterminant: 4.999999999999998\n",
      "Matrice: [[4 1 2]\n",
      " [4 4 4]\n",
      " [3 1 3]]\n",
      "Valeurs propres: [8. 2. 1.]\n",
      "Vecteurs propres: [[-0.40824829 -0.23570226 -0.2981424 ]\n",
      " [-0.81649658  0.94280904 -0.59628479]\n",
      " [-0.40824829 -0.23570226  0.74535599]]\n",
      "Produit matriciel: [[ 14  70]\n",
      " [ 15 111]]\n"
     ]
    }
   ],
   "source": [
    "# EXERCICE 10: Algèbre linéaire\n",
    "# 1. Création d'une matrice et calcul du déterminant\n",
    "mat1 = np.random.randint(1, 10, (2, 2))\n",
    "determinant = np.linalg.det(mat1)\n",
    "print(\"Matrice:\", mat1)\n",
    "print(\"Déterminant:\", determinant)\n",
    "\n",
    "# 2. Calcul des valeurs propres et vecteurs propres\n",
    "mat2 = np.random.randint(1, 5, (3, 3))\n",
    "eigvals, eigvecs = np.linalg.eig(mat2)\n",
    "print(\"Matrice:\", mat2)\n",
    "print(\"Valeurs propres:\", eigvals)\n",
    "print(\"Vecteurs propres:\", eigvecs)\n",
    "\n",
    "# 3. Multiplication matricielle\n",
    "mat3 = np.random.randint(1, 10, (2, 3))\n",
    "mat4 = np.random.randint(1, 10, (3, 2))\n",
    "mat_product = np.dot(mat3, mat4)\n",
    "print(\"Produit matriciel:\", mat_product)"
   ]
  },
  {
   "cell_type": "code",
   "execution_count": 25,
   "id": "f4efc7d8-3669-4771-ad3f-10485eac4a93",
   "metadata": {},
   "outputs": [
    {
     "name": "stdout",
     "output_type": "stream",
     "text": [
      "Échantillon uniforme: [0.44920346 0.62454018 0.37480697 0.23490329 0.59113816 0.44668056\n",
      " 0.61903796 0.27014867 0.94881981 0.3301266 ]\n",
      "Échantillon normal: [[ 0.44675831 -0.5419971   1.50496659]\n",
      " [ 0.63347674 -1.48397092  0.04332252]\n",
      " [ 0.74054246 -1.22745729 -0.41128307]]\n",
      "Histogramme: (array([4, 5, 7, 1, 3], dtype=int64), array([ 2. , 18.8, 35.6, 52.4, 69.2, 86. ]))\n"
     ]
    }
   ],
   "source": [
    "# EXERCICE 11: Échantillonnage et distributions\n",
    "# 1. Génération d'un échantillon uniforme\n",
    "uniform_samples = np.random.rand(10)\n",
    "print(\"Échantillon uniforme:\", uniform_samples)\n",
    "\n",
    "# 2. Génération d'un échantillon normal\n",
    "normal_samples = np.random.randn(3, 3)\n",
    "print(\"Échantillon normal:\", normal_samples)\n",
    "\n",
    "# 3. Création d'un histogramme\n",
    "histogram_data = np.random.randint(1, 100, 20)\n",
    "histogram = np.histogram(histogram_data, bins=5)\n",
    "print(\"Histogramme:\", histogram)\n"
   ]
  },
  {
   "cell_type": "code",
   "execution_count": 27,
   "id": "eb1cfec4-0a00-4c85-b168-315110379b93",
   "metadata": {},
   "outputs": [
    {
     "name": "stdout",
     "output_type": "stream",
     "text": [
      "Éléments diagonaux: [13  7  4 14  2]\n",
      "Nombres premiers: [43]\n",
      "Nombres pairs: [46 18 10 30  8 48]\n"
     ]
    }
   ],
   "source": [
    "# EXERCICE 12: Indexation avancée\n",
    "# 1. Sélection des éléments diagonaux\n",
    "arr24 = np.random.randint(1, 20, (5, 5))\n",
    "diagonal = np.diag(arr24)\n",
    "print(\"Éléments diagonaux:\", diagonal)\n",
    "\n",
    "# 2. Sélection des nombres premiers\n",
    "arr25 = np.random.randint(1, 50, 10)\n",
    "is_prime = lambda x: all(x % i != 0 for i in range(2, int(x**0.5) + 1)) and x > 1\n",
    "prime_numbers = arr25[[is_prime(i) for i in arr25]]\n",
    "print(\"Nombres premiers:\", prime_numbers)\n",
    "\n",
    "# 3. Sélection des nombres pairs\n",
    "even_numbers = arr25[arr25 % 2 == 0]\n",
    "print(\"Nombres pairs:\", even_numbers)"
   ]
  },
  {
   "cell_type": "code",
   "execution_count": 29,
   "id": "8cebeae7-5bf1-4eb2-963b-7ef20e8dfc02",
   "metadata": {},
   "outputs": [
    {
     "name": "stdout",
     "output_type": "stream",
     "text": [
      "Tableau avec NaN: [ 3. nan  9.  4.  4. nan  2.  5. nan  2.]\n",
      "Tableau avec NaN remplacés: [3.         4.14285714 9.         4.         4.         4.14285714\n",
      " 2.         5.         4.14285714 2.        ]\n",
      "Indices des NaN: (array([], dtype=int64),)\n"
     ]
    }
   ],
   "source": [
    "# EXERCICE 13: Gestion des valeurs manquantes\n",
    "# 1. Création d'un tableau avec des NaN\n",
    "arr26 = np.random.randint(1, 10, 10).astype(float)\n",
    "arr26[np.random.choice(10, 3, replace=False)] = np.nan\n",
    "print(\"Tableau avec NaN:\", arr26)\n",
    "\n",
    "# 2. Remplacement des NaN par la moyenne\n",
    "arr26[np.isnan(arr26)] = np.nanmean(arr26)\n",
    "print(\"Tableau avec NaN remplacés:\", arr26)\n",
    "\n",
    "# 3. Identification des indices contenant des NaN\n",
    "nan_indices = np.where(np.isnan(arr26))\n",
    "print(\"Indices des NaN:\", nan_indices)"
   ]
  },
  {
   "cell_type": "code",
   "execution_count": 31,
   "id": "3b70cc25-5863-4f41-a889-cc3ad5bbcf3a",
   "metadata": {},
   "outputs": [
    {
     "name": "stdout",
     "output_type": "stream",
     "text": [
      "Moyenne calculée efficacement: 50.001537\n",
      "Addition rapide de grandes matrices: [[ 8 11  5 ...  7 10 10]\n",
      " [11  7 18 ... 11 10  8]\n",
      " [13 11  7 ...  6  6  7]\n",
      " ...\n",
      " [10 17  2 ... 10 18  8]\n",
      " [ 9 10  3 ... 14  8  6]\n",
      " [18 15  4 ... 11 13 11]]\n",
      "Somme sur un axe spécifique: [[519 452 492 ... 498 491 511]\n",
      " [482 478 554 ... 510 518 512]\n",
      " [481 505 475 ... 505 493 486]\n",
      " ...\n",
      " [475 502 528 ... 451 492 501]\n",
      " [506 453 515 ... 508 468 460]\n",
      " [486 482 534 ... 533 501 507]]\n"
     ]
    }
   ],
   "source": [
    "# EXERCICE 14: Optimisation\n",
    "# 1. Création d'un grand tableau et calcul optimisé de la moyenne\n",
    "arr28 = np.random.randint(1, 100, 1_000_000)\n",
    "avg = np.mean(arr28)\n",
    "print(\"Moyenne calculée efficacement:\", avg)\n",
    "\n",
    "# 2. Addition de grandes matrices\n",
    "arr29 = np.random.randint(1, 10, (1000, 1000))\n",
    "arr30 = np.random.randint(1, 10, (1000, 1000))\n",
    "large_sum = arr29 + arr30\n",
    "print(\"Addition rapide de grandes matrices:\", large_sum)\n",
    "\n",
    "# 3. Somme selon différents axes\n",
    "arr31 = np.random.randint(1, 10, (100, 100, 100))\n",
    "sum_axes = np.sum(arr31, axis=0)\n",
    "print(\"Somme sur un axe spécifique:\", sum_axes)"
   ]
  },
  {
   "cell_type": "code",
   "execution_count": 33,
   "id": "12f6e67f-87b1-4480-9a71-adb57679677e",
   "metadata": {},
   "outputs": [
    {
     "name": "stdout",
     "output_type": "stream",
     "text": [
      "Somme cumulative: [ 1  3  6 10 15 21 28 36 45 55]\n",
      "Produit cumulatif: [      1       2       6      24     120     720    5040   40320  362880\n",
      " 3628800]\n",
      "Cumulatif par lignes: [[12 24 37 45]\n",
      " [ 6 13 26 29]\n",
      " [15 18 34 44]\n",
      " [17 19 30 33]]\n",
      "Cumulatif par colonnes: [[12 12 13  8]\n",
      " [18 19 26 11]\n",
      " [33 22 42 21]\n",
      " [50 24 53 24]]\n"
     ]
    }
   ],
   "source": [
    "# EXERCICE 15: Fonctions cumulatives\n",
    "# 1. Somme cumulative\n",
    "arr32 = np.arange(1, 11)\n",
    "cumsum_values = np.cumsum(arr32)\n",
    "print(\"Somme cumulative:\", cumsum_values)\n",
    "\n",
    "# 2. Produit cumulatif\n",
    "cumprod_values = np.cumprod(arr32)\n",
    "print(\"Produit cumulatif:\", cumprod_values)\n",
    "\n",
    "# 3. Cumulatif par lignes et colonnes\n",
    "arr33 = np.random.randint(1, 20, (4, 4))\n",
    "cumsum_rows = np.cumsum(arr33, axis=1)\n",
    "cumsum_cols = np.cumsum(arr33, axis=0)\n",
    "print(\"Cumulatif par lignes:\", cumsum_rows)\n",
    "print(\"Cumulatif par colonnes:\", cumsum_cols)"
   ]
  },
  {
   "cell_type": "code",
   "execution_count": 35,
   "id": "c607f7aa-8fc9-4545-925c-1939789174d8",
   "metadata": {},
   "outputs": [
    {
     "name": "stdout",
     "output_type": "stream",
     "text": [
      "Dates journalières: ['2023-02-01' '2023-02-02' '2023-02-03' '2023-02-04' '2023-02-05'\n",
      " '2023-02-06' '2023-02-07' '2023-02-08' '2023-02-09' '2023-02-10']\n",
      "Dates mensuelles: ['2022-01' '2022-02' '2022-03' '2022-04' '2022-05']\n",
      "Timestamps convertis: ['2023-03-14T14:59:53' '2023-10-23T04:03:34' '2023-01-17T20:09:30'\n",
      " '2023-07-01T07:29:45' '2023-04-28T01:07:24' '2023-04-27T06:04:10'\n",
      " '2023-05-09T07:25:11' '2023-03-08T07:34:19' '2023-04-17T06:25:41'\n",
      " '2023-09-04T03:01:15']\n"
     ]
    }
   ],
   "source": [
    "# EXERCICE 16: Dates et temps\n",
    "# 1. Génération d'une plage de dates journalières\n",
    "date_range = np.arange('2023-02-01', '2023-02-11', dtype='datetime64[D]')\n",
    "print(\"Dates journalières:\", date_range)\n",
    "\n",
    "# 2. Génération d'une plage de dates mensuelles\n",
    "month_range = np.arange('2022-01', '2022-06', dtype='datetime64[M]')\n",
    "print(\"Dates mensuelles:\", month_range)\n",
    "\n",
    "# 3. Conversion de timestamps en datetime\n",
    "timestamps = np.random.randint(1672531200, 1704067200, 10)\n",
    "datetime_arr = np.datetime64(0, 's') + timestamps\n",
    "print(\"Timestamps convertis:\", datetime_arr)"
   ]
  },
  {
   "cell_type": "code",
   "execution_count": 37,
   "id": "74798da6-34b8-4236-b2f7-9eae0b818e93",
   "metadata": {},
   "outputs": [
    {
     "name": "stdout",
     "output_type": "stream",
     "text": [
      "Livres en tableau structuré: [(b'Python Basics', b'John Doe', 300)\n",
      " (b'Advanced NumPy', b'Jane Smith', 450)\n",
      " (b'Machine Learning', b'Alice Brown', 500)]\n",
      "Représentation binaire: [(0, b'0') (1, b'1') (2, b'10') (3, b'11') (4, b'100')]\n",
      "Tableau de nombres complexes: [(1., 2.) (3., 4.) (5., 6.)]\n"
     ]
    }
   ],
   "source": [
    "# EXERCICE 17: Types personnalisés\n",
    "# 1. Création d'un tableau structuré pour stocker des informations sur des livres\n",
    "structured_dtype = np.dtype([('title', 'S50'), ('author', 'S50'), ('pages', np.int32)])\n",
    "books = np.array([\n",
    "    (b\"Python Basics\", b\"John Doe\", 300),\n",
    "    (b\"Advanced NumPy\", b\"Jane Smith\", 450),\n",
    "    (b\"Machine Learning\", b\"Alice Brown\", 500)\n",
    "], dtype=structured_dtype)\n",
    "print(\"Livres en tableau structuré:\", books)\n",
    "\n",
    "# 2. Création d'un tableau avec entiers et leur représentation binaire\n",
    "binary_dtype = np.dtype([('number', np.int32), ('binary', 'S10')])\n",
    "binary_arr = np.array([(i, bin(i)[2:].encode()) for i in range(5)], dtype=binary_dtype)\n",
    "print(\"Représentation binaire:\", binary_arr)\n",
    "\n",
    "# 3. Création d'un tableau avec nombres complexes\n",
    "complex_dtype = np.dtype([('real', np.float64), ('imag', np.float64)])\n",
    "complex_arr = np.array([(1, 2), (3, 4), (5, 6)], dtype=complex_dtype)\n",
    "print(\"Tableau de nombres complexes:\", complex_arr)"
   ]
  },
  {
   "cell_type": "code",
   "execution_count": null,
   "id": "45c81169-d0e3-43a5-9f97-3a0bc443fca9",
   "metadata": {},
   "outputs": [],
   "source": []
  }
 ],
 "metadata": {
  "kernelspec": {
   "display_name": "Python 3 (ipykernel)",
   "language": "python",
   "name": "python3"
  },
  "language_info": {
   "codemirror_mode": {
    "name": "ipython",
    "version": 3
   },
   "file_extension": ".py",
   "mimetype": "text/x-python",
   "name": "python",
   "nbconvert_exporter": "python",
   "pygments_lexer": "ipython3",
   "version": "3.12.7"
  }
 },
 "nbformat": 4,
 "nbformat_minor": 5
}
